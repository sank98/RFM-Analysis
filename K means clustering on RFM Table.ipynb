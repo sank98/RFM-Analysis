{
 "cells": [
  {
   "cell_type": "code",
   "execution_count": 1,
   "metadata": {},
   "outputs": [],
   "source": [
    "#Define client's name\n",
    "\n",
    "com_name = 'flyin2'"
   ]
  },
  {
   "cell_type": "code",
   "execution_count": 2,
   "metadata": {},
   "outputs": [],
   "source": [
    "#Import libraries\n",
    "\n",
    "from sklearn.cluster import KMeans\n",
    "from sklearn import metrics\n",
    "from scipy.spatial.distance import cdist\n",
    "import pandas as pd\n",
    "import datetime as dt\n",
    "import numpy as np\n",
    "import matplotlib.pyplot as plt\n",
    "%matplotlib inline"
   ]
  },
  {
   "cell_type": "code",
   "execution_count": 3,
   "metadata": {},
   "outputs": [],
   "source": [
    "#Read the input file\n",
    "\n",
    "df = pd.read_csv(\"rfmTable_\"+com_name+\".csv\", sep = \"\\t\", parse_dates = ['date'])"
   ]
  },
  {
   "cell_type": "code",
   "execution_count": 4,
   "metadata": {},
   "outputs": [
    {
     "data": {
      "text/plain": [
       "2.985279349138753"
      ]
     },
     "execution_count": 4,
     "metadata": {},
     "output_type": "execute_result"
    }
   ],
   "source": [
    "df['frequency'].mean()"
   ]
  },
  {
   "cell_type": "code",
   "execution_count": 5,
   "metadata": {},
   "outputs": [
    {
     "name": "stdout",
     "output_type": "stream",
     "text": [
      "<class 'pandas.core.frame.DataFrame'>\n",
      "RangeIndex: 157330 entries, 0 to 157329\n",
      "Data columns (total 6 columns):\n",
      "id                157330 non-null object\n",
      "recency           157330 non-null float64\n",
      "frequency         157330 non-null int64\n",
      "monetary_value    157330 non-null float64\n",
      "date              157330 non-null datetime64[ns, UTC]\n",
      "weekday           157330 non-null int64\n",
      "dtypes: datetime64[ns, UTC](1), float64(2), int64(2), object(1)\n",
      "memory usage: 7.2+ MB\n"
     ]
    }
   ],
   "source": [
    "df.info()"
   ]
  },
  {
   "cell_type": "code",
   "execution_count": 6,
   "metadata": {},
   "outputs": [
    {
     "data": {
      "text/html": [
       "<div>\n",
       "<style scoped>\n",
       "    .dataframe tbody tr th:only-of-type {\n",
       "        vertical-align: middle;\n",
       "    }\n",
       "\n",
       "    .dataframe tbody tr th {\n",
       "        vertical-align: top;\n",
       "    }\n",
       "\n",
       "    .dataframe thead th {\n",
       "        text-align: right;\n",
       "    }\n",
       "</style>\n",
       "<table border=\"1\" class=\"dataframe\">\n",
       "  <thead>\n",
       "    <tr style=\"text-align: right;\">\n",
       "      <th></th>\n",
       "      <th>id</th>\n",
       "      <th>recency</th>\n",
       "      <th>frequency</th>\n",
       "      <th>monetary_value</th>\n",
       "      <th>date</th>\n",
       "      <th>weekday</th>\n",
       "    </tr>\n",
       "  </thead>\n",
       "  <tbody>\n",
       "    <tr>\n",
       "      <th>0</th>\n",
       "      <td>0</td>\n",
       "      <td>129.0</td>\n",
       "      <td>131</td>\n",
       "      <td>247860.0</td>\n",
       "      <td>2019-02-03 20:10:59.434000+00:00</td>\n",
       "      <td>101</td>\n",
       "    </tr>\n",
       "    <tr>\n",
       "      <th>1</th>\n",
       "      <td>0000015c-0b9f-c0b0-9a6e-9ae8ab2c243c</td>\n",
       "      <td>392.0</td>\n",
       "      <td>1</td>\n",
       "      <td>1021.0</td>\n",
       "      <td>2018-05-16 02:19:45+00:00</td>\n",
       "      <td>1</td>\n",
       "    </tr>\n",
       "    <tr>\n",
       "      <th>2</th>\n",
       "      <td>0000015c-0bc1-71bd-8c06-eeaf2ab6acb4</td>\n",
       "      <td>161.0</td>\n",
       "      <td>4</td>\n",
       "      <td>1607.0</td>\n",
       "      <td>2019-01-02 07:00:33.159000+00:00</td>\n",
       "      <td>4</td>\n",
       "    </tr>\n",
       "    <tr>\n",
       "      <th>3</th>\n",
       "      <td>0000015c-0bcd-42c7-8fbd-dc89fa565dcd</td>\n",
       "      <td>414.0</td>\n",
       "      <td>1</td>\n",
       "      <td>3515.0</td>\n",
       "      <td>2018-04-24 23:26:41+00:00</td>\n",
       "      <td>1</td>\n",
       "    </tr>\n",
       "    <tr>\n",
       "      <th>4</th>\n",
       "      <td>0000015c-0be9-295b-9345-ec764b98ba1c</td>\n",
       "      <td>398.0</td>\n",
       "      <td>2</td>\n",
       "      <td>3648.0</td>\n",
       "      <td>2018-05-10 20:23:43+00:00</td>\n",
       "      <td>2</td>\n",
       "    </tr>\n",
       "  </tbody>\n",
       "</table>\n",
       "</div>"
      ],
      "text/plain": [
       "                                     id  recency  frequency  monetary_value  \\\n",
       "0                                     0    129.0        131        247860.0   \n",
       "1  0000015c-0b9f-c0b0-9a6e-9ae8ab2c243c    392.0          1          1021.0   \n",
       "2  0000015c-0bc1-71bd-8c06-eeaf2ab6acb4    161.0          4          1607.0   \n",
       "3  0000015c-0bcd-42c7-8fbd-dc89fa565dcd    414.0          1          3515.0   \n",
       "4  0000015c-0be9-295b-9345-ec764b98ba1c    398.0          2          3648.0   \n",
       "\n",
       "                              date  weekday  \n",
       "0 2019-02-03 20:10:59.434000+00:00      101  \n",
       "1        2018-05-16 02:19:45+00:00        1  \n",
       "2 2019-01-02 07:00:33.159000+00:00        4  \n",
       "3        2018-04-24 23:26:41+00:00        1  \n",
       "4        2018-05-10 20:23:43+00:00        2  "
      ]
     },
     "execution_count": 6,
     "metadata": {},
     "output_type": "execute_result"
    }
   ],
   "source": [
    "df.head()"
   ]
  },
  {
   "cell_type": "code",
   "execution_count": 7,
   "metadata": {},
   "outputs": [
    {
     "data": {
      "text/plain": [
       "469674"
      ]
     },
     "execution_count": 7,
     "metadata": {},
     "output_type": "execute_result"
    }
   ],
   "source": [
    "sum(df['frequency'])"
   ]
  },
  {
   "cell_type": "code",
   "execution_count": 8,
   "metadata": {},
   "outputs": [],
   "source": [
    "#Make a copy for safety\n",
    "\n",
    "dataset = df "
   ]
  },
  {
   "cell_type": "code",
   "execution_count": 9,
   "metadata": {},
   "outputs": [
    {
     "name": "stdout",
     "output_type": "stream",
     "text": [
      "<class 'pandas.core.frame.DataFrame'>\n",
      "RangeIndex: 157330 entries, 0 to 157329\n",
      "Data columns (total 6 columns):\n",
      "id                157330 non-null object\n",
      "recency           157330 non-null float64\n",
      "frequency         157330 non-null int64\n",
      "monetary_value    157330 non-null float64\n",
      "date              157330 non-null datetime64[ns, UTC]\n",
      "weekday           157330 non-null int64\n",
      "dtypes: datetime64[ns, UTC](1), float64(2), int64(2), object(1)\n",
      "memory usage: 7.2+ MB\n"
     ]
    }
   ],
   "source": [
    "dataset.info()"
   ]
  },
  {
   "cell_type": "code",
   "execution_count": 10,
   "metadata": {},
   "outputs": [],
   "source": [
    "#x = ['15985.0', '3268.0']\n",
    "#dataset = dataset[~dataset['id'].isin(x)]"
   ]
  },
  {
   "cell_type": "code",
   "execution_count": 11,
   "metadata": {},
   "outputs": [],
   "source": [
    "#Drop the all columns other than Recency, Frequency and Monetary_Value \n",
    "\n",
    "dataset = dataset.drop(['id'], axis = 1)"
   ]
  },
  {
   "cell_type": "code",
   "execution_count": 12,
   "metadata": {},
   "outputs": [],
   "source": [
    "dataset = dataset.drop(['date'], axis = 1)"
   ]
  },
  {
   "cell_type": "code",
   "execution_count": 13,
   "metadata": {},
   "outputs": [],
   "source": [
    "dataset = dataset.drop(['weekday'], axis = 1)"
   ]
  },
  {
   "cell_type": "code",
   "execution_count": 14,
   "metadata": {},
   "outputs": [],
   "source": [
    "#dataset = dataset.drop(['R_div', 'M_div', 'F_div'], axis = 1)"
   ]
  },
  {
   "cell_type": "code",
   "execution_count": 15,
   "metadata": {},
   "outputs": [],
   "source": [
    "#dataset = dataset.drop(['clusters'], axis = 1)"
   ]
  },
  {
   "cell_type": "code",
   "execution_count": 16,
   "metadata": {},
   "outputs": [
    {
     "name": "stdout",
     "output_type": "stream",
     "text": [
      "<class 'pandas.core.frame.DataFrame'>\n",
      "RangeIndex: 157330 entries, 0 to 157329\n",
      "Data columns (total 3 columns):\n",
      "recency           157330 non-null float64\n",
      "frequency         157330 non-null int64\n",
      "monetary_value    157330 non-null float64\n",
      "dtypes: float64(2), int64(1)\n",
      "memory usage: 3.6 MB\n"
     ]
    }
   ],
   "source": [
    "dataset.info()"
   ]
  },
  {
   "cell_type": "code",
   "execution_count": 17,
   "metadata": {},
   "outputs": [
    {
     "name": "stderr",
     "output_type": "stream",
     "text": [
      "/Users/gautamshetty/anaconda3/lib/python3.7/site-packages/ipykernel_launcher.py:6: DataConversionWarning: Data with input dtype int64, float64 were all converted to float64 by the scale function.\n",
      "  \n"
     ]
    }
   ],
   "source": [
    "# Standardize the data attributes for the dataset.\n",
    "from sklearn.datasets import load_iris\n",
    "from sklearn import preprocessing\n",
    "\n",
    "dataset = pd.DataFrame(preprocessing.scale(dataset))"
   ]
  },
  {
   "cell_type": "code",
   "execution_count": 18,
   "metadata": {},
   "outputs": [],
   "source": [
    "#Rename the attributes\n",
    "\n",
    "dataset.rename(columns = {0 : 'recency',\n",
    "                         1 : 'frequency',\n",
    "                         2 : 'monetary_value'}, inplace = True)"
   ]
  },
  {
   "cell_type": "code",
   "execution_count": 19,
   "metadata": {},
   "outputs": [
    {
     "name": "stdout",
     "output_type": "stream",
     "text": [
      "<class 'pandas.core.frame.DataFrame'>\n",
      "RangeIndex: 157330 entries, 0 to 157329\n",
      "Data columns (total 3 columns):\n",
      "recency           157330 non-null float64\n",
      "frequency         157330 non-null float64\n",
      "monetary_value    157330 non-null float64\n",
      "dtypes: float64(3)\n",
      "memory usage: 3.6 MB\n"
     ]
    }
   ],
   "source": [
    "dataset.info()"
   ]
  },
  {
   "cell_type": "code",
   "execution_count": 20,
   "metadata": {},
   "outputs": [],
   "source": [
    "#dataset['frequency'] = np.log(dataset['frequency'])\n"
   ]
  },
  {
   "cell_type": "code",
   "execution_count": 21,
   "metadata": {},
   "outputs": [],
   "source": [
    "#dataset.loc[dataset['monetary_value']>0 ,'monetary_value'] = np.power((dataset.loc[dataset['monetary_value']>0 ,'monetary_value']),-.5)"
   ]
  },
  {
   "cell_type": "code",
   "execution_count": 22,
   "metadata": {},
   "outputs": [],
   "source": [
    "#plt.hist(dataset['monetary_value'], bins = 100)"
   ]
  },
  {
   "cell_type": "code",
   "execution_count": 23,
   "metadata": {},
   "outputs": [],
   "source": [
    "#sum(np.abs(dataset['monetary_value']-dataset['monetary_value'].mean()) > (30*dataset['monetary_value'].std()))"
   ]
  },
  {
   "cell_type": "code",
   "execution_count": 24,
   "metadata": {},
   "outputs": [
    {
     "data": {
      "text/plain": [
       "157330"
      ]
     },
     "execution_count": 24,
     "metadata": {},
     "output_type": "execute_result"
    }
   ],
   "source": [
    "dataset.shape[0]"
   ]
  },
  {
   "cell_type": "code",
   "execution_count": 25,
   "metadata": {},
   "outputs": [],
   "source": [
    "#Finding out the optimal value of K by elbow method\n",
    "\n",
    "distortions = []\n",
    "for k in range(1,16):\n",
    "    kmeanModel = KMeans(n_clusters=k).fit(dataset)\n",
    "    kmeanModel.fit(dataset)\n",
    "    distortions.append(sum(np.min(cdist(dataset, kmeanModel.cluster_centers_, 'euclidean'), axis=1)) / dataset.shape[0])"
   ]
  },
  {
   "cell_type": "code",
   "execution_count": 26,
   "metadata": {},
   "outputs": [
    {
     "data": {
      "image/png": "[encoded data removed]",
      "text/plain": [
       "<Figure size 432x288 with 1 Axes>"
      ]
     },
     "metadata": {
      "needs_background": "light"
     },
     "output_type": "display_data"
    }
   ],
   "source": [
    "K = range(1,16)\n",
    "plt.plot(K, distortions, 'bx-')\n",
    "plt.xlabel('k')\n",
    "plt.ylabel('Distortion')\n",
    "plt.title('The Elbow Method showing the optimal k')\n",
    "plt.show()"
   ]
  },
  {
   "cell_type": "code",
   "execution_count": 27,
   "metadata": {},
   "outputs": [
    {
     "name": "stdout",
     "output_type": "stream",
     "text": [
      "10\n"
     ]
    },
    {
     "data": {
      "text/plain": [
       "<matplotlib.collections.LineCollection at 0x1a246b6ac8>"
      ]
     },
     "execution_count": 27,
     "metadata": {},
     "output_type": "execute_result"
    },
    {
     "data": {
      "image/png": "[encoded data removed]",
      "text/plain": [
       "<Figure size 432x288 with 1 Axes>"
      ]
     },
     "metadata": {
      "needs_background": "light"
     },
     "output_type": "display_data"
    }
   ],
   "source": [
    "# Plot and save the graph of the elbow method for reporting purpose\n",
    "\n",
    "from kneed import KneeLocator\n",
    "kn = KneeLocator(K, distortions, curve='convex', direction='decreasing')\n",
    "print(kn.knee)\n",
    "\n",
    "\n",
    "import matplotlib.pyplot as plt\n",
    "plt.xlabel('number of clusters k')\n",
    "plt.ylabel('Sum of squared distances')\n",
    "plt.title('name')\n",
    "plt.plot(K, distortions, 'bx-')\n",
    "plt.vlines(kn.knee, plt.ylim()[0], plt.ylim()[1], linestyles='dashed')"
   ]
  },
  {
   "cell_type": "code",
   "execution_count": 28,
   "metadata": {},
   "outputs": [
    {
     "data": {
      "text/plain": [
       "KMeans(algorithm='auto', copy_x=True, init='k-means++', max_iter=300,\n",
       "    n_clusters=10, n_init=10, n_jobs=None, precompute_distances='auto',\n",
       "    random_state=None, tol=0.0001, verbose=0)"
      ]
     },
     "execution_count": 28,
     "metadata": {},
     "output_type": "execute_result"
    }
   ],
   "source": [
    "#Create KMeans model using the optimal K value\n",
    "\n",
    "kmeanModel = KMeans(n_clusters=kn.knee).fit(dataset)\n",
    "kmeanModel.fit(dataset)"
   ]
  },
  {
   "cell_type": "code",
   "execution_count": null,
   "metadata": {},
   "outputs": [],
   "source": [
    "#test basis in case you want to use other k value\n",
    "\n",
    "kmeanModel = KMeans(n_clusters=11).fit(dataset)\n",
    "kmeanModel.fit(dataset)"
   ]
  },
  {
   "cell_type": "code",
   "execution_count": 29,
   "metadata": {},
   "outputs": [],
   "source": [
    "#Paste the cluster_id for the corresponding id\n",
    "\n",
    "dataset['clusters'] = kmeanModel.labels_  "
   ]
  },
  {
   "cell_type": "code",
   "execution_count": 30,
   "metadata": {},
   "outputs": [],
   "source": [
    "df['clusters'] = dataset['clusters']"
   ]
  },
  {
   "cell_type": "code",
   "execution_count": 31,
   "metadata": {},
   "outputs": [
    {
     "data": {
      "text/html": [
       "<div>\n",
       "<style scoped>\n",
       "    .dataframe tbody tr th:only-of-type {\n",
       "        vertical-align: middle;\n",
       "    }\n",
       "\n",
       "    .dataframe tbody tr th {\n",
       "        vertical-align: top;\n",
       "    }\n",
       "\n",
       "    .dataframe thead th {\n",
       "        text-align: right;\n",
       "    }\n",
       "</style>\n",
       "<table border=\"1\" class=\"dataframe\">\n",
       "  <thead>\n",
       "    <tr style=\"text-align: right;\">\n",
       "      <th></th>\n",
       "      <th>recency</th>\n",
       "      <th>frequency</th>\n",
       "      <th>monetary_value</th>\n",
       "      <th>clusters</th>\n",
       "    </tr>\n",
       "  </thead>\n",
       "  <tbody>\n",
       "    <tr>\n",
       "      <th>0</th>\n",
       "      <td>-0.542911</td>\n",
       "      <td>16.891610</td>\n",
       "      <td>0.063980</td>\n",
       "      <td>2</td>\n",
       "    </tr>\n",
       "    <tr>\n",
       "      <th>1</th>\n",
       "      <td>1.568308</td>\n",
       "      <td>-0.261959</td>\n",
       "      <td>-0.012742</td>\n",
       "      <td>1</td>\n",
       "    </tr>\n",
       "    <tr>\n",
       "      <th>2</th>\n",
       "      <td>-0.286033</td>\n",
       "      <td>0.133893</td>\n",
       "      <td>-0.012560</td>\n",
       "      <td>7</td>\n",
       "    </tr>\n",
       "    <tr>\n",
       "      <th>3</th>\n",
       "      <td>1.744911</td>\n",
       "      <td>-0.261959</td>\n",
       "      <td>-0.011967</td>\n",
       "      <td>1</td>\n",
       "    </tr>\n",
       "    <tr>\n",
       "      <th>4</th>\n",
       "      <td>1.616472</td>\n",
       "      <td>-0.130008</td>\n",
       "      <td>-0.011926</td>\n",
       "      <td>1</td>\n",
       "    </tr>\n",
       "    <tr>\n",
       "      <th>5</th>\n",
       "      <td>0.950194</td>\n",
       "      <td>-0.261959</td>\n",
       "      <td>-0.012648</td>\n",
       "      <td>1</td>\n",
       "    </tr>\n",
       "    <tr>\n",
       "      <th>6</th>\n",
       "      <td>0.829782</td>\n",
       "      <td>0.133893</td>\n",
       "      <td>-0.003821</td>\n",
       "      <td>5</td>\n",
       "    </tr>\n",
       "    <tr>\n",
       "      <th>7</th>\n",
       "      <td>-0.382362</td>\n",
       "      <td>-0.261959</td>\n",
       "      <td>-0.012842</td>\n",
       "      <td>7</td>\n",
       "    </tr>\n",
       "    <tr>\n",
       "      <th>8</th>\n",
       "      <td>1.110743</td>\n",
       "      <td>-0.130008</td>\n",
       "      <td>-0.012805</td>\n",
       "      <td>1</td>\n",
       "    </tr>\n",
       "    <tr>\n",
       "      <th>9</th>\n",
       "      <td>0.420382</td>\n",
       "      <td>-0.261959</td>\n",
       "      <td>-0.012199</td>\n",
       "      <td>5</td>\n",
       "    </tr>\n",
       "    <tr>\n",
       "      <th>10</th>\n",
       "      <td>1.166935</td>\n",
       "      <td>-0.261959</td>\n",
       "      <td>-0.012721</td>\n",
       "      <td>1</td>\n",
       "    </tr>\n",
       "    <tr>\n",
       "      <th>11</th>\n",
       "      <td>0.468547</td>\n",
       "      <td>-0.261959</td>\n",
       "      <td>-0.013011</td>\n",
       "      <td>5</td>\n",
       "    </tr>\n",
       "    <tr>\n",
       "      <th>12</th>\n",
       "      <td>-0.799790</td>\n",
       "      <td>3.696557</td>\n",
       "      <td>0.052078</td>\n",
       "      <td>6</td>\n",
       "    </tr>\n",
       "    <tr>\n",
       "      <th>13</th>\n",
       "      <td>0.588959</td>\n",
       "      <td>1.453398</td>\n",
       "      <td>-0.011354</td>\n",
       "      <td>5</td>\n",
       "    </tr>\n",
       "    <tr>\n",
       "      <th>14</th>\n",
       "      <td>-0.478692</td>\n",
       "      <td>0.265843</td>\n",
       "      <td>-0.009846</td>\n",
       "      <td>7</td>\n",
       "    </tr>\n",
       "    <tr>\n",
       "      <th>15</th>\n",
       "      <td>0.139422</td>\n",
       "      <td>0.397794</td>\n",
       "      <td>-0.012524</td>\n",
       "      <td>5</td>\n",
       "    </tr>\n",
       "    <tr>\n",
       "      <th>16</th>\n",
       "      <td>1.447896</td>\n",
       "      <td>-0.261959</td>\n",
       "      <td>-0.008923</td>\n",
       "      <td>1</td>\n",
       "    </tr>\n",
       "    <tr>\n",
       "      <th>17</th>\n",
       "      <td>1.158908</td>\n",
       "      <td>-0.261959</td>\n",
       "      <td>-0.013031</td>\n",
       "      <td>1</td>\n",
       "    </tr>\n",
       "    <tr>\n",
       "      <th>18</th>\n",
       "      <td>1.471978</td>\n",
       "      <td>-0.130008</td>\n",
       "      <td>-0.009097</td>\n",
       "      <td>1</td>\n",
       "    </tr>\n",
       "    <tr>\n",
       "      <th>19</th>\n",
       "      <td>1.496061</td>\n",
       "      <td>-0.261959</td>\n",
       "      <td>-0.013020</td>\n",
       "      <td>1</td>\n",
       "    </tr>\n",
       "  </tbody>\n",
       "</table>\n",
       "</div>"
      ],
      "text/plain": [
       "     recency  frequency  monetary_value  clusters\n",
       "0  -0.542911  16.891610        0.063980         2\n",
       "1   1.568308  -0.261959       -0.012742         1\n",
       "2  -0.286033   0.133893       -0.012560         7\n",
       "3   1.744911  -0.261959       -0.011967         1\n",
       "4   1.616472  -0.130008       -0.011926         1\n",
       "5   0.950194  -0.261959       -0.012648         1\n",
       "6   0.829782   0.133893       -0.003821         5\n",
       "7  -0.382362  -0.261959       -0.012842         7\n",
       "8   1.110743  -0.130008       -0.012805         1\n",
       "9   0.420382  -0.261959       -0.012199         5\n",
       "10  1.166935  -0.261959       -0.012721         1\n",
       "11  0.468547  -0.261959       -0.013011         5\n",
       "12 -0.799790   3.696557        0.052078         6\n",
       "13  0.588959   1.453398       -0.011354         5\n",
       "14 -0.478692   0.265843       -0.009846         7\n",
       "15  0.139422   0.397794       -0.012524         5\n",
       "16  1.447896  -0.261959       -0.008923         1\n",
       "17  1.158908  -0.261959       -0.013031         1\n",
       "18  1.471978  -0.130008       -0.009097         1\n",
       "19  1.496061  -0.261959       -0.013020         1"
      ]
     },
     "execution_count": 31,
     "metadata": {},
     "output_type": "execute_result"
    }
   ],
   "source": [
    "dataset.head(20)"
   ]
  },
  {
   "cell_type": "code",
   "execution_count": 32,
   "metadata": {},
   "outputs": [],
   "source": [
    "#Count the number of customers in each clusters\n",
    "\n",
    "count = []\n",
    "for i in range(kn.knee):\n",
    "    count.append(sum(kmeanModel.labels_ ==i))"
   ]
  },
  {
   "cell_type": "code",
   "execution_count": 33,
   "metadata": {},
   "outputs": [
    {
     "data": {
      "text/plain": [
       "[44625, 41846, 419, 11, 27, 35484, 4116, 30799, 1, 2]"
      ]
     },
     "execution_count": 33,
     "metadata": {},
     "output_type": "execute_result"
    }
   ],
   "source": [
    "count"
   ]
  },
  {
   "cell_type": "code",
   "execution_count": 34,
   "metadata": {},
   "outputs": [],
   "source": [
    "#Make the cluster report\n",
    "\n",
    "Cluster_report = pd.DataFrame()"
   ]
  },
  {
   "cell_type": "code",
   "execution_count": 35,
   "metadata": {},
   "outputs": [
    {
     "name": "stdout",
     "output_type": "stream",
     "text": [
      "-1.23699\n",
      "-0.07305\n",
      "-0.00557\n",
      " \n",
      "1.21807\n",
      "-0.12544\n",
      "-0.00982\n",
      " \n",
      "-1.09376\n",
      "9.73007\n",
      "0.04878\n",
      " \n",
      "-0.62829\n",
      "0.64970\n",
      "92.52052\n",
      " \n",
      "-1.13575\n",
      "35.39401\n",
      "0.35133\n",
      " \n",
      "0.52285\n",
      "-0.10709\n",
      "-0.00943\n",
      " \n",
      "-0.70491\n",
      "2.53138\n",
      "0.01063\n",
      " \n",
      "-0.35814\n",
      "-0.11013\n",
      "-0.01074\n",
      " \n",
      "-1.42593\n",
      "0.26584\n",
      "233.18421\n",
      " \n",
      "-1.55437\n",
      "122.78191\n",
      "0.44102\n",
      " \n"
     ]
    }
   ],
   "source": [
    "for c in  kmeanModel.cluster_centers_:\n",
    "    for d in c:\n",
    "        print(\"%.5f\"%d)\n",
    "    print(\" \")    \n"
   ]
  },
  {
   "cell_type": "code",
   "execution_count": 36,
   "metadata": {},
   "outputs": [],
   "source": [
    "centers = []\n",
    "for c in  kmeanModel.cluster_centers_:\n",
    "    temp = []\n",
    "    for d in c:\n",
    "        temp.append(d)\n",
    "    centers.append(temp)   \n"
   ]
  },
  {
   "cell_type": "code",
   "execution_count": 37,
   "metadata": {},
   "outputs": [],
   "source": [
    "clusters_report = pd.DataFrame(centers)"
   ]
  },
  {
   "cell_type": "code",
   "execution_count": 38,
   "metadata": {},
   "outputs": [],
   "source": [
    "clusters_report = clusters_report.rename(columns={0: \"Recency\", 1: \"Frequency\", 2: \"Monetary_value\"})"
   ]
  },
  {
   "cell_type": "code",
   "execution_count": 39,
   "metadata": {},
   "outputs": [],
   "source": [
    "clusters_report['count'] = count"
   ]
  },
  {
   "cell_type": "code",
   "execution_count": 40,
   "metadata": {},
   "outputs": [
    {
     "data": {
      "text/html": [
       "<div>\n",
       "<style scoped>\n",
       "    .dataframe tbody tr th:only-of-type {\n",
       "        vertical-align: middle;\n",
       "    }\n",
       "\n",
       "    .dataframe tbody tr th {\n",
       "        vertical-align: top;\n",
       "    }\n",
       "\n",
       "    .dataframe thead th {\n",
       "        text-align: right;\n",
       "    }\n",
       "</style>\n",
       "<table border=\"1\" class=\"dataframe\">\n",
       "  <thead>\n",
       "    <tr style=\"text-align: right;\">\n",
       "      <th></th>\n",
       "      <th>Recency</th>\n",
       "      <th>Frequency</th>\n",
       "      <th>Monetary_value</th>\n",
       "      <th>count</th>\n",
       "    </tr>\n",
       "  </thead>\n",
       "  <tbody>\n",
       "    <tr>\n",
       "      <th>0</th>\n",
       "      <td>-1.236986</td>\n",
       "      <td>-0.073052</td>\n",
       "      <td>-0.005575</td>\n",
       "      <td>44625</td>\n",
       "    </tr>\n",
       "    <tr>\n",
       "      <th>1</th>\n",
       "      <td>1.218074</td>\n",
       "      <td>-0.125438</td>\n",
       "      <td>-0.009819</td>\n",
       "      <td>41846</td>\n",
       "    </tr>\n",
       "    <tr>\n",
       "      <th>2</th>\n",
       "      <td>-1.093759</td>\n",
       "      <td>9.730066</td>\n",
       "      <td>0.048777</td>\n",
       "      <td>419</td>\n",
       "    </tr>\n",
       "    <tr>\n",
       "      <th>3</th>\n",
       "      <td>-0.628294</td>\n",
       "      <td>0.649700</td>\n",
       "      <td>92.520525</td>\n",
       "      <td>11</td>\n",
       "    </tr>\n",
       "    <tr>\n",
       "      <th>4</th>\n",
       "      <td>-1.135753</td>\n",
       "      <td>35.394006</td>\n",
       "      <td>0.351334</td>\n",
       "      <td>27</td>\n",
       "    </tr>\n",
       "    <tr>\n",
       "      <th>5</th>\n",
       "      <td>0.522847</td>\n",
       "      <td>-0.107091</td>\n",
       "      <td>-0.009429</td>\n",
       "      <td>35484</td>\n",
       "    </tr>\n",
       "    <tr>\n",
       "      <th>6</th>\n",
       "      <td>-0.704910</td>\n",
       "      <td>2.531379</td>\n",
       "      <td>0.010626</td>\n",
       "      <td>4116</td>\n",
       "    </tr>\n",
       "    <tr>\n",
       "      <th>7</th>\n",
       "      <td>-0.358143</td>\n",
       "      <td>-0.110130</td>\n",
       "      <td>-0.010743</td>\n",
       "      <td>30799</td>\n",
       "    </tr>\n",
       "    <tr>\n",
       "      <th>8</th>\n",
       "      <td>-1.425931</td>\n",
       "      <td>0.265843</td>\n",
       "      <td>233.184205</td>\n",
       "      <td>1</td>\n",
       "    </tr>\n",
       "    <tr>\n",
       "      <th>9</th>\n",
       "      <td>-1.554370</td>\n",
       "      <td>122.781907</td>\n",
       "      <td>0.441022</td>\n",
       "      <td>2</td>\n",
       "    </tr>\n",
       "  </tbody>\n",
       "</table>\n",
       "</div>"
      ],
      "text/plain": [
       "    Recency   Frequency  Monetary_value  count\n",
       "0 -1.236986   -0.073052       -0.005575  44625\n",
       "1  1.218074   -0.125438       -0.009819  41846\n",
       "2 -1.093759    9.730066        0.048777    419\n",
       "3 -0.628294    0.649700       92.520525     11\n",
       "4 -1.135753   35.394006        0.351334     27\n",
       "5  0.522847   -0.107091       -0.009429  35484\n",
       "6 -0.704910    2.531379        0.010626   4116\n",
       "7 -0.358143   -0.110130       -0.010743  30799\n",
       "8 -1.425931    0.265843      233.184205      1\n",
       "9 -1.554370  122.781907        0.441022      2"
      ]
     },
     "execution_count": 40,
     "metadata": {},
     "output_type": "execute_result"
    }
   ],
   "source": [
    "clusters_report"
   ]
  },
  {
   "cell_type": "code",
   "execution_count": 41,
   "metadata": {},
   "outputs": [],
   "source": [
    "#Converting the standardized values back to normal for all the attributes\n",
    "\n",
    "clusters_report['Recency'] = clusters_report['Recency']*np.std(df['recency'])+df['recency'].mean()"
   ]
  },
  {
   "cell_type": "code",
   "execution_count": 42,
   "metadata": {},
   "outputs": [],
   "source": [
    "clusters_report['Frequency'] = clusters_report['Frequency']*np.std(df['frequency'])+df['frequency'].mean()"
   ]
  },
  {
   "cell_type": "code",
   "execution_count": 43,
   "metadata": {},
   "outputs": [],
   "source": [
    "clusters_report['Monetary_value'] = clusters_report['Monetary_value']*np.std(df['monetary_value'])+df['monetary_value'].mean()"
   ]
  },
  {
   "cell_type": "code",
   "execution_count": 44,
   "metadata": {},
   "outputs": [],
   "source": [
    "#Round the clusters report\n",
    "\n",
    "clusters_report = clusters_report.round(0)"
   ]
  },
  {
   "cell_type": "code",
   "execution_count": 45,
   "metadata": {},
   "outputs": [],
   "source": [
    "clusters_report['total revenue'] = clusters_report['Monetary_value']*clusters_report['count']"
   ]
  },
  {
   "cell_type": "code",
   "execution_count": 60,
   "metadata": {},
   "outputs": [],
   "source": [
    "#Save the clusters report for reporting\n",
    "\n",
    "clusters_report.to_csv(\"clusters_report_\"+com_name+\".csv\", sep='\\t', encoding='utf-8')"
   ]
  },
  {
   "cell_type": "code",
   "execution_count": 46,
   "metadata": {},
   "outputs": [],
   "source": [
    "pd.set_option('display.float_format', lambda x: '%.2f' % x)"
   ]
  },
  {
   "cell_type": "code",
   "execution_count": 47,
   "metadata": {},
   "outputs": [
    {
     "data": {
      "text/html": [
       "<div>\n",
       "<style scoped>\n",
       "    .dataframe tbody tr th:only-of-type {\n",
       "        vertical-align: middle;\n",
       "    }\n",
       "\n",
       "    .dataframe tbody tr th {\n",
       "        vertical-align: top;\n",
       "    }\n",
       "\n",
       "    .dataframe thead th {\n",
       "        text-align: right;\n",
       "    }\n",
       "</style>\n",
       "<table border=\"1\" class=\"dataframe\">\n",
       "  <thead>\n",
       "    <tr style=\"text-align: right;\">\n",
       "      <th></th>\n",
       "      <th>Recency</th>\n",
       "      <th>Frequency</th>\n",
       "      <th>Monetary_value</th>\n",
       "      <th>count</th>\n",
       "      <th>total revenue</th>\n",
       "    </tr>\n",
       "  </thead>\n",
       "  <tbody>\n",
       "    <tr>\n",
       "      <th>9</th>\n",
       "      <td>3.00</td>\n",
       "      <td>934.00</td>\n",
       "      <td>1460910.00</td>\n",
       "      <td>2</td>\n",
       "      <td>2921820.00</td>\n",
       "    </tr>\n",
       "    <tr>\n",
       "      <th>4</th>\n",
       "      <td>55.00</td>\n",
       "      <td>271.00</td>\n",
       "      <td>1172357.00</td>\n",
       "      <td>27</td>\n",
       "      <td>31653639.00</td>\n",
       "    </tr>\n",
       "    <tr>\n",
       "      <th>2</th>\n",
       "      <td>60.00</td>\n",
       "      <td>77.00</td>\n",
       "      <td>198947.00</td>\n",
       "      <td>419</td>\n",
       "      <td>83358793.00</td>\n",
       "    </tr>\n",
       "    <tr>\n",
       "      <th>7</th>\n",
       "      <td>152.00</td>\n",
       "      <td>2.00</td>\n",
       "      <td>7454.00</td>\n",
       "      <td>30799</td>\n",
       "      <td>229575746.00</td>\n",
       "    </tr>\n",
       "    <tr>\n",
       "      <th>6</th>\n",
       "      <td>109.00</td>\n",
       "      <td>22.00</td>\n",
       "      <td>76202.00</td>\n",
       "      <td>4116</td>\n",
       "      <td>313647432.00</td>\n",
       "    </tr>\n",
       "    <tr>\n",
       "      <th>5</th>\n",
       "      <td>262.00</td>\n",
       "      <td>2.00</td>\n",
       "      <td>11680.00</td>\n",
       "      <td>35484</td>\n",
       "      <td>414453120.00</td>\n",
       "    </tr>\n",
       "    <tr>\n",
       "      <th>1</th>\n",
       "      <td>348.00</td>\n",
       "      <td>2.00</td>\n",
       "      <td>10427.00</td>\n",
       "      <td>41846</td>\n",
       "      <td>436328242.00</td>\n",
       "    </tr>\n",
       "    <tr>\n",
       "      <th>8</th>\n",
       "      <td>19.00</td>\n",
       "      <td>5.00</td>\n",
       "      <td>750260715.00</td>\n",
       "      <td>1</td>\n",
       "      <td>750260715.00</td>\n",
       "    </tr>\n",
       "    <tr>\n",
       "      <th>0</th>\n",
       "      <td>43.00</td>\n",
       "      <td>2.00</td>\n",
       "      <td>24082.00</td>\n",
       "      <td>44625</td>\n",
       "      <td>1074659250.00</td>\n",
       "    </tr>\n",
       "    <tr>\n",
       "      <th>3</th>\n",
       "      <td>118.00</td>\n",
       "      <td>8.00</td>\n",
       "      <td>297706379.00</td>\n",
       "      <td>11</td>\n",
       "      <td>3274770169.00</td>\n",
       "    </tr>\n",
       "  </tbody>\n",
       "</table>\n",
       "</div>"
      ],
      "text/plain": [
       "   Recency  Frequency  Monetary_value  count  total revenue\n",
       "9     3.00     934.00      1460910.00      2     2921820.00\n",
       "4    55.00     271.00      1172357.00     27    31653639.00\n",
       "2    60.00      77.00       198947.00    419    83358793.00\n",
       "7   152.00       2.00         7454.00  30799   229575746.00\n",
       "6   109.00      22.00        76202.00   4116   313647432.00\n",
       "5   262.00       2.00        11680.00  35484   414453120.00\n",
       "1   348.00       2.00        10427.00  41846   436328242.00\n",
       "8    19.00       5.00    750260715.00      1   750260715.00\n",
       "0    43.00       2.00        24082.00  44625  1074659250.00\n",
       "3   118.00       8.00    297706379.00     11  3274770169.00"
      ]
     },
     "execution_count": 47,
     "metadata": {},
     "output_type": "execute_result"
    }
   ],
   "source": [
    "clusters_report.sort_values(by=['total revenue'])"
   ]
  },
  {
   "cell_type": "code",
   "execution_count": 48,
   "metadata": {},
   "outputs": [],
   "source": [
    "#(df.loc[df['clusters']==8, 'monetary_value']-df['monetary_value'].mean())/np.std(df['monetary_value'])"
   ]
  },
  {
   "cell_type": "code",
   "execution_count": 52,
   "metadata": {},
   "outputs": [],
   "source": [
    "df['weekend'] = df['frequency']-df['weekday']"
   ]
  },
  {
   "cell_type": "code",
   "execution_count": 53,
   "metadata": {},
   "outputs": [],
   "source": [
    "temp = df.groupby('clusters').agg({'weekday': lambda x:x.sum(),\n",
    "                                   'weekend': lambda x:x.sum()})          "
   ]
  },
  {
   "cell_type": "code",
   "execution_count": 54,
   "metadata": {},
   "outputs": [
    {
     "data": {
      "text/html": [
       "<div>\n",
       "<style scoped>\n",
       "    .dataframe tbody tr th:only-of-type {\n",
       "        vertical-align: middle;\n",
       "    }\n",
       "\n",
       "    .dataframe tbody tr th {\n",
       "        vertical-align: top;\n",
       "    }\n",
       "\n",
       "    .dataframe thead th {\n",
       "        text-align: right;\n",
       "    }\n",
       "</style>\n",
       "<table border=\"1\" class=\"dataframe\">\n",
       "  <thead>\n",
       "    <tr style=\"text-align: right;\">\n",
       "      <th></th>\n",
       "      <th>weekday</th>\n",
       "      <th>weekend</th>\n",
       "    </tr>\n",
       "    <tr>\n",
       "      <th>clusters</th>\n",
       "      <th></th>\n",
       "      <th></th>\n",
       "    </tr>\n",
       "  </thead>\n",
       "  <tbody>\n",
       "    <tr>\n",
       "      <th>0</th>\n",
       "      <td>82084</td>\n",
       "      <td>26426</td>\n",
       "    </tr>\n",
       "    <tr>\n",
       "      <th>1</th>\n",
       "      <td>61876</td>\n",
       "      <td>23221</td>\n",
       "    </tr>\n",
       "    <tr>\n",
       "      <th>2</th>\n",
       "      <td>24944</td>\n",
       "      <td>7204</td>\n",
       "    </tr>\n",
       "    <tr>\n",
       "      <th>3</th>\n",
       "      <td>76</td>\n",
       "      <td>11</td>\n",
       "    </tr>\n",
       "    <tr>\n",
       "      <th>4</th>\n",
       "      <td>5794</td>\n",
       "      <td>1529</td>\n",
       "    </tr>\n",
       "    <tr>\n",
       "      <th>5</th>\n",
       "      <td>59160</td>\n",
       "      <td>18004</td>\n",
       "    </tr>\n",
       "    <tr>\n",
       "      <th>6</th>\n",
       "      <td>70185</td>\n",
       "      <td>21065</td>\n",
       "    </tr>\n",
       "    <tr>\n",
       "      <th>7</th>\n",
       "      <td>50602</td>\n",
       "      <td>15621</td>\n",
       "    </tr>\n",
       "    <tr>\n",
       "      <th>8</th>\n",
       "      <td>5</td>\n",
       "      <td>0</td>\n",
       "    </tr>\n",
       "    <tr>\n",
       "      <th>9</th>\n",
       "      <td>1588</td>\n",
       "      <td>279</td>\n",
       "    </tr>\n",
       "  </tbody>\n",
       "</table>\n",
       "</div>"
      ],
      "text/plain": [
       "          weekday  weekend\n",
       "clusters                  \n",
       "0           82084    26426\n",
       "1           61876    23221\n",
       "2           24944     7204\n",
       "3              76       11\n",
       "4            5794     1529\n",
       "5           59160    18004\n",
       "6           70185    21065\n",
       "7           50602    15621\n",
       "8               5        0\n",
       "9            1588      279"
      ]
     },
     "execution_count": 54,
     "metadata": {},
     "output_type": "execute_result"
    }
   ],
   "source": [
    "temp"
   ]
  },
  {
   "cell_type": "code",
   "execution_count": 56,
   "metadata": {},
   "outputs": [],
   "source": [
    "result = pd.merge(clusters_report, temp,left_index=True, right_index=True)"
   ]
  },
  {
   "cell_type": "code",
   "execution_count": 57,
   "metadata": {},
   "outputs": [
    {
     "data": {
      "text/html": [
       "<div>\n",
       "<style scoped>\n",
       "    .dataframe tbody tr th:only-of-type {\n",
       "        vertical-align: middle;\n",
       "    }\n",
       "\n",
       "    .dataframe tbody tr th {\n",
       "        vertical-align: top;\n",
       "    }\n",
       "\n",
       "    .dataframe thead th {\n",
       "        text-align: right;\n",
       "    }\n",
       "</style>\n",
       "<table border=\"1\" class=\"dataframe\">\n",
       "  <thead>\n",
       "    <tr style=\"text-align: right;\">\n",
       "      <th></th>\n",
       "      <th>Recency</th>\n",
       "      <th>Frequency</th>\n",
       "      <th>Monetary_value</th>\n",
       "      <th>count</th>\n",
       "      <th>total revenue</th>\n",
       "      <th>weekday</th>\n",
       "      <th>weekend</th>\n",
       "    </tr>\n",
       "  </thead>\n",
       "  <tbody>\n",
       "    <tr>\n",
       "      <th>0</th>\n",
       "      <td>43.00</td>\n",
       "      <td>2.00</td>\n",
       "      <td>24082.00</td>\n",
       "      <td>44625</td>\n",
       "      <td>1074659250.00</td>\n",
       "      <td>82084</td>\n",
       "      <td>26426</td>\n",
       "    </tr>\n",
       "    <tr>\n",
       "      <th>1</th>\n",
       "      <td>348.00</td>\n",
       "      <td>2.00</td>\n",
       "      <td>10427.00</td>\n",
       "      <td>41846</td>\n",
       "      <td>436328242.00</td>\n",
       "      <td>61876</td>\n",
       "      <td>23221</td>\n",
       "    </tr>\n",
       "    <tr>\n",
       "      <th>2</th>\n",
       "      <td>60.00</td>\n",
       "      <td>77.00</td>\n",
       "      <td>198947.00</td>\n",
       "      <td>419</td>\n",
       "      <td>83358793.00</td>\n",
       "      <td>24944</td>\n",
       "      <td>7204</td>\n",
       "    </tr>\n",
       "    <tr>\n",
       "      <th>3</th>\n",
       "      <td>118.00</td>\n",
       "      <td>8.00</td>\n",
       "      <td>297706379.00</td>\n",
       "      <td>11</td>\n",
       "      <td>3274770169.00</td>\n",
       "      <td>76</td>\n",
       "      <td>11</td>\n",
       "    </tr>\n",
       "    <tr>\n",
       "      <th>4</th>\n",
       "      <td>55.00</td>\n",
       "      <td>271.00</td>\n",
       "      <td>1172357.00</td>\n",
       "      <td>27</td>\n",
       "      <td>31653639.00</td>\n",
       "      <td>5794</td>\n",
       "      <td>1529</td>\n",
       "    </tr>\n",
       "    <tr>\n",
       "      <th>5</th>\n",
       "      <td>262.00</td>\n",
       "      <td>2.00</td>\n",
       "      <td>11680.00</td>\n",
       "      <td>35484</td>\n",
       "      <td>414453120.00</td>\n",
       "      <td>59160</td>\n",
       "      <td>18004</td>\n",
       "    </tr>\n",
       "    <tr>\n",
       "      <th>6</th>\n",
       "      <td>109.00</td>\n",
       "      <td>22.00</td>\n",
       "      <td>76202.00</td>\n",
       "      <td>4116</td>\n",
       "      <td>313647432.00</td>\n",
       "      <td>70185</td>\n",
       "      <td>21065</td>\n",
       "    </tr>\n",
       "    <tr>\n",
       "      <th>7</th>\n",
       "      <td>152.00</td>\n",
       "      <td>2.00</td>\n",
       "      <td>7454.00</td>\n",
       "      <td>30799</td>\n",
       "      <td>229575746.00</td>\n",
       "      <td>50602</td>\n",
       "      <td>15621</td>\n",
       "    </tr>\n",
       "    <tr>\n",
       "      <th>8</th>\n",
       "      <td>19.00</td>\n",
       "      <td>5.00</td>\n",
       "      <td>750260715.00</td>\n",
       "      <td>1</td>\n",
       "      <td>750260715.00</td>\n",
       "      <td>5</td>\n",
       "      <td>0</td>\n",
       "    </tr>\n",
       "    <tr>\n",
       "      <th>9</th>\n",
       "      <td>3.00</td>\n",
       "      <td>934.00</td>\n",
       "      <td>1460910.00</td>\n",
       "      <td>2</td>\n",
       "      <td>2921820.00</td>\n",
       "      <td>1588</td>\n",
       "      <td>279</td>\n",
       "    </tr>\n",
       "  </tbody>\n",
       "</table>\n",
       "</div>"
      ],
      "text/plain": [
       "   Recency  Frequency  Monetary_value  count  total revenue  weekday  weekend\n",
       "0    43.00       2.00        24082.00  44625  1074659250.00    82084    26426\n",
       "1   348.00       2.00        10427.00  41846   436328242.00    61876    23221\n",
       "2    60.00      77.00       198947.00    419    83358793.00    24944     7204\n",
       "3   118.00       8.00    297706379.00     11  3274770169.00       76       11\n",
       "4    55.00     271.00      1172357.00     27    31653639.00     5794     1529\n",
       "5   262.00       2.00        11680.00  35484   414453120.00    59160    18004\n",
       "6   109.00      22.00        76202.00   4116   313647432.00    70185    21065\n",
       "7   152.00       2.00         7454.00  30799   229575746.00    50602    15621\n",
       "8    19.00       5.00    750260715.00      1   750260715.00        5        0\n",
       "9     3.00     934.00      1460910.00      2     2921820.00     1588      279"
      ]
     },
     "execution_count": 57,
     "metadata": {},
     "output_type": "execute_result"
    }
   ],
   "source": [
    "result"
   ]
  },
  {
   "cell_type": "code",
   "execution_count": 58,
   "metadata": {},
   "outputs": [
    {
     "data": {
      "text/plain": [
       "89250.0"
      ]
     },
     "execution_count": 58,
     "metadata": {},
     "output_type": "execute_result"
    }
   ],
   "source": [
    "result.iloc[0]['Frequency']*result.iloc[0]['count']"
   ]
  },
  {
   "cell_type": "code",
   "execution_count": 59,
   "metadata": {},
   "outputs": [
    {
     "data": {
      "text/plain": [
       "108510.0"
      ]
     },
     "execution_count": 59,
     "metadata": {},
     "output_type": "execute_result"
    }
   ],
   "source": [
    "result.iloc[0]['weekday']+result.iloc[0]['weekend']"
   ]
  },
  {
   "cell_type": "code",
   "execution_count": 49,
   "metadata": {},
   "outputs": [
    {
     "data": {
      "text/plain": [
       "Timestamp('2019-02-03 20:10:59.434000+0000', tz='UTC')"
      ]
     },
     "execution_count": 49,
     "metadata": {},
     "output_type": "execute_result"
    }
   ],
   "source": [
    "df.iloc[0]['date']"
   ]
  },
  {
   "cell_type": "code",
   "execution_count": null,
   "metadata": {},
   "outputs": [],
   "source": [
    "import datetime\n",
    "day = []\n",
    "for i in df.index:\n",
    "    day.append(df.iloc[i]['date'].strftime('%A'))"
   ]
  },
  {
   "cell_type": "code",
   "execution_count": null,
   "metadata": {},
   "outputs": [],
   "source": [
    "len(day\n",
    "   )"
   ]
  },
  {
   "cell_type": "code",
   "execution_count": null,
   "metadata": {},
   "outputs": [],
   "source": [
    "df['day'] = day"
   ]
  },
  {
   "cell_type": "code",
   "execution_count": null,
   "metadata": {},
   "outputs": [],
   "source": [
    "df.to_csv(\"rfm_table_clusterized_\"+com_name+\".csv\", sep='\\t', encoding='utf-8')"
   ]
  },
  {
   "cell_type": "code",
   "execution_count": null,
   "metadata": {},
   "outputs": [],
   "source": [
    "df.head()"
   ]
  },
  {
   "cell_type": "code",
   "execution_count": null,
   "metadata": {},
   "outputs": [],
   "source": [
    "days = ['Monday', 'Tuesday', 'Wednesday', 'Thursday', 'Friday']\n",
    "weekdays = []\n",
    "for i in range(kn.knee):\n",
    "    weekdays.append(sum((df['clusters'] ==i) & (df['day'].isin(days) )))"
   ]
  },
  {
   "cell_type": "code",
   "execution_count": null,
   "metadata": {},
   "outputs": [],
   "source": [
    "days = ['Saturday', 'Sunday']\n",
    "weekends = []\n",
    "for i in range(kn.knee):\n",
    "    weekends.append(sum((df['clusters'] ==i) & (df['day'].isin(days) )))"
   ]
  },
  {
   "cell_type": "code",
   "execution_count": null,
   "metadata": {},
   "outputs": [],
   "source": [
    "weekdays"
   ]
  },
  {
   "cell_type": "code",
   "execution_count": null,
   "metadata": {},
   "outputs": [],
   "source": [
    "weekends"
   ]
  },
  {
   "cell_type": "code",
   "execution_count": null,
   "metadata": {},
   "outputs": [],
   "source": [
    "count"
   ]
  },
  {
   "cell_type": "code",
   "execution_count": null,
   "metadata": {},
   "outputs": [],
   "source": [
    "clusters_report['weekdays_count'] = weekdays"
   ]
  },
  {
   "cell_type": "code",
   "execution_count": null,
   "metadata": {},
   "outputs": [],
   "source": [
    "clusters_report['weekends_count'] = weekends"
   ]
  },
  {
   "cell_type": "code",
   "execution_count": null,
   "metadata": {},
   "outputs": [],
   "source": [
    "check = pd.read_csv(\"flyin_book_room_checkin_checkout_dates.csv\")"
   ]
  },
  {
   "cell_type": "code",
   "execution_count": null,
   "metadata": {},
   "outputs": [],
   "source": [
    "check.info()"
   ]
  },
  {
   "cell_type": "code",
   "execution_count": null,
   "metadata": {},
   "outputs": [],
   "source": [
    "ad_c['id'] = ad_c[ad_c['cuid'].isnull()]['luid']\n",
    "ad_c.loc[ad_c['id'].isnull(), 'id'] = ad_c.loc[ad_c['id'].isnull(), 'cuid']"
   ]
  },
  {
   "cell_type": "code",
   "execution_count": null,
   "metadata": {},
   "outputs": [],
   "source": [
    "ad_c.drop(['cuid', 'luid'], axis=1, inplace=True)"
   ]
  },
  {
   "cell_type": "code",
   "execution_count": null,
   "metadata": {},
   "outputs": [],
   "source": [
    "sum(ad_c['Revenue'].isnull())"
   ]
  },
  {
   "cell_type": "code",
   "execution_count": null,
   "metadata": {},
   "outputs": [],
   "source": [
    "dir(kmeanModel)"
   ]
  },
  {
   "cell_type": "code",
   "execution_count": null,
   "metadata": {},
   "outputs": [],
   "source": [
    "kmeanModel.verbose"
   ]
  },
  {
   "cell_type": "code",
   "execution_count": null,
   "metadata": {},
   "outputs": [],
   "source": [
    "kmeanModel.cluster_centers_"
   ]
  },
  {
   "cell_type": "code",
   "execution_count": null,
   "metadata": {},
   "outputs": [],
   "source": [
    "kmeanModel.get_params"
   ]
  },
  {
   "cell_type": "code",
   "execution_count": null,
   "metadata": {},
   "outputs": [],
   "source": [
    "kmeanModel.inertia_"
   ]
  },
  {
   "cell_type": "code",
   "execution_count": null,
   "metadata": {},
   "outputs": [],
   "source": [
    "kmeanModel.labels_"
   ]
  },
  {
   "cell_type": "code",
   "execution_count": null,
   "metadata": {},
   "outputs": [],
   "source": [
    "kmeanModel.random_state"
   ]
  },
  {
   "cell_type": "code",
   "execution_count": null,
   "metadata": {},
   "outputs": [],
   "source": [
    "kmeanModel.n_iter_"
   ]
  },
  {
   "cell_type": "code",
   "execution_count": null,
   "metadata": {},
   "outputs": [],
   "source": [
    "kmeanModel.n_clusters"
   ]
  },
  {
   "cell_type": "code",
   "execution_count": null,
   "metadata": {},
   "outputs": [],
   "source": [
    "kmeanModel.score"
   ]
  },
  {
   "cell_type": "code",
   "execution_count": null,
   "metadata": {},
   "outputs": [],
   "source": [
    "#libraries\n",
    "import matplotlib.pyplot as plt\n",
    "import squarify # pip install squarify (algorithm for treemap)\n",
    " \n",
    "# Change color\n",
    "squarify.plot(sizes=count, label=[\"group A\", \"group B\", \"group C\", \"group D\", \"group E\", \"group F\", \"group G\", \"group H\", \"group I\"], color=[\"red\",\"green\",\"blue\", \"grey\", \"cyan\", \"magenta\", \"black\", \"white\", \"yellow\"], alpha=.4 )\n",
    "plt.axis('off')\n",
    "plt.show()\n"
   ]
  },
  {
   "cell_type": "code",
   "execution_count": null,
   "metadata": {},
   "outputs": [],
   "source": [
    "for i in range(kn.knee): \n",
    "    plt.hist(df.loc[df['clusters']==i ,'recency'], bins=50, bottom = 5)\n",
    "    print(i)\n",
    "    plt.title(label = 'Cluster '+str(i))\n",
    "    plt.show()"
   ]
  },
  {
   "cell_type": "code",
   "execution_count": null,
   "metadata": {},
   "outputs": [],
   "source": [
    "import matplotlib\n",
    "import matplotlib.pyplot as plt\n",
    "import pandas as pd\n",
    "import squarify\n",
    "\n",
    "# qualtities plotted\n",
    "# squarre area is the town surface area (superf)\n",
    "# color scale is the town population in 2011 (p11_pop)\n",
    "\n",
    "# read data from csv file\n",
    "# data from CAPP opendata http://opendata.agglo-pau.fr/index.php/fiche?idQ=27\n",
    "#df = pd.read_excel(\"Customer Success New.xlsx\")\n",
    "#df = df.set_index(\"location_id\")\n",
    "#df = df[[\"user_id\", \"company_id\"]]\n",
    "#df2 = df.sort_values(by=\"user_id\", ascending=False)\n",
    "\n",
    "# treemap parameters\n",
    "x = 0.\n",
    "y = 0.\n",
    "width = 200.\n",
    "height = 100.\n",
    "cmap = matplotlib.cm.viridis\n",
    "\n",
    "# color scale on the population\n",
    "# min and max values without Pau\n",
    "mini, maxi = clusters_report['count'].min(), clusters_report['count'].max()\n",
    "norm = matplotlib.colors.Normalize(vmin=mini, vmax=maxi)\n",
    "colors = [cmap(norm(value)) for value in clusters_report['count']]\n",
    "colors[1] = \"#FBFCFE\"\n",
    "\n",
    "# labels for squares\n",
    "#labels = [\"hab\" % (label) for label in zip(df2.index, df2.user_id), df2.company_id)]\n",
    "#labels[11] = \"MAZERES\" % (df2[\"user_id\"][\"MAZERES-LEZONS\"], df2[\"company_id\"][\"MAZERES-LEZONS\"])\n",
    "\n",
    "# make plot\n",
    "fig = plt.figure(figsize=(16, 8))\n",
    "fig.suptitle(\"Cluster Distribution\", fontsize=20)\n",
    "ax = fig.add_subplot(111, aspect=\"equal\")\n",
    "ax = squarify.plot(clusters_report['count'],label = range(kn.knee), color=colors, ax=ax, alpha=.7)\n",
    "ax.set_xticks([])\n",
    "ax.set_yticks([])\n",
    "\n",
    "\n",
    "\n",
    "plt.show()"
   ]
  },
  {
   "cell_type": "code",
   "execution_count": null,
   "metadata": {},
   "outputs": [],
   "source": [
    "clusters_report.iloc[[3, 4]]['count']"
   ]
  },
  {
   "cell_type": "code",
   "execution_count": null,
   "metadata": {},
   "outputs": [],
   "source": [
    "import matplotlib\n",
    "import matplotlib.pyplot as plt\n",
    "import pandas as pd\n",
    "import squarify\n",
    "\n",
    "# qualtities plotted\n",
    "# squarre area is the town surface area (superf)\n",
    "# color scale is the town population in 2011 (p11_pop)\n",
    "\n",
    "# read data from csv file\n",
    "# data from CAPP opendata http://opendata.agglo-pau.fr/index.php/fiche?idQ=27\n",
    "#df = pd.read_excel(\"Customer Success New.xlsx\")\n",
    "#df = df.set_index(\"location_id\")\n",
    "#df = df[[\"user_id\", \"company_id\"]]\n",
    "#df2 = df.sort_values(by=\"user_id\", ascending=False)\n",
    "\n",
    "# treemap parameters\n",
    "x = 0.\n",
    "y = 0.\n",
    "width = 200.\n",
    "height = 100.\n",
    "cmap = matplotlib.cm.viridis\n",
    "\n",
    "# color scale on the population\n",
    "# min and max values without Pau\n",
    "mini, maxi = clusters_report.iloc[[2, 3, 4]]['count'].min(), clusters_report.iloc[[2, 3, 4]]['count'].max()\n",
    "norm = matplotlib.colors.Normalize(vmin=mini, vmax=maxi)\n",
    "colors = [cmap(norm(value)) for value in clusters_report.iloc[[2, 3, 4]]['count']]\n",
    "colors[1] = \"#FBFCFE\"\n",
    "\n",
    "# labels for squares\n",
    "#labels = [\"hab\" % (label) for label in zip(df2.index, df2.user_id), df2.company_id)]\n",
    "#labels[11] = \"MAZERES\" % (df2[\"user_id\"][\"MAZERES-LEZONS\"], df2[\"company_id\"][\"MAZERES-LEZONS\"])\n",
    "\n",
    "# make plot\n",
    "fig = plt.figure(figsize=(16, 8))\n",
    "fig.suptitle(\"Cluster Distribution for 2, 3, 4 clusters\", fontsize=20)\n",
    "ax = fig.add_subplot(111, aspect=\"equal\")\n",
    "ax = squarify.plot(clusters_report.iloc[[2, 3, 4]]['count'],label = [2, 3, 4], color=colors, ax=ax, alpha=.7)\n",
    "ax.set_xticks([])\n",
    "ax.set_yticks([])\n",
    "\n",
    "\n",
    "\n",
    "plt.show()"
   ]
  },
  {
   "cell_type": "code",
   "execution_count": null,
   "metadata": {},
   "outputs": [],
   "source": [
    "# color bar\n",
    "# create dummy invisible image with a color map\n",
    "img = plt.imshow([df2.p11_pop], cmap=cmap)\n",
    "img.set_visible(False)\n",
    "fig.colorbar(img, orientation=\"vertical\", shrink=.96)\n",
    "\n",
    "fig.text(.76, .9, \"Population\", fontsize=14)\n",
    "fig.text(.5, 0.1,\n",
    "         \"Superficie totale %d km2, Population de la CAPP : %d hab\" % (df2.superf.sum(), df2.p11_pop.sum()),\n",
    "         fontsize=14,\n",
    "         ha=\"center\")\n",
    "fig.text(.5, 0.07,\n",
    "         \"Source : http://opendata.agglo-pau.fr/\",\n",
    "         fontsize=14,\n",
    "         ha=\"center\")"
   ]
  },
  {
   "cell_type": "code",
   "execution_count": null,
   "metadata": {},
   "outputs": [],
   "source": [
    "df[df['clusters']==4]"
   ]
  },
  {
   "cell_type": "code",
   "execution_count": null,
   "metadata": {},
   "outputs": [],
   "source": []
  }
 ],
 "metadata": {
  "kernelspec": {
   "display_name": "Python 3",
   "language": "python",
   "name": "python3"
  },
  "language_info": {
   "codemirror_mode": {
    "name": "ipython",
    "version": 3
   },
   "file_extension": ".py",
   "mimetype": "text/x-python",
   "name": "python",
   "nbconvert_exporter": "python",
   "pygments_lexer": "ipython3",
   "version": "3.7.2"
  }
 },
 "nbformat": 4,
 "nbformat_minor": 2
}
